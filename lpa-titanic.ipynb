{
 "cells": [
  {
   "cell_type": "markdown",
   "metadata": {},
   "source": [
    "# Project description\n",
    "**Our goal is simple: use machine learning to create a model that predicts which passengers survived the Titanic shipwreck.**"
   ]
  },
  {
   "cell_type": "markdown",
   "metadata": {},
   "source": [
    "# 1. Importing the required libraries For Titanic project.\n",
    "**Below are the libraries that are used for this project**"
   ]
  },
  {
   "cell_type": "code",
   "execution_count": 1,
   "metadata": {},
   "outputs": [
    {
     "name": "stdout",
     "output_type": "stream",
     "text": [
      "Setup Complete\n"
     ]
    }
   ],
   "source": [
    "import pandas as pd\n",
    "import numpy as np\n",
    "pd.plotting.register_matplotlib_converters()\n",
    "import matplotlib.pyplot as plt\n",
    "%matplotlib inline\n",
    "import seaborn as sns\n",
    "print(\"Setup Complete\")"
   ]
  },
  {
   "cell_type": "markdown",
   "metadata": {},
   "source": [
    "# 2. Loading the data into the data frame"
   ]
  },
  {
   "cell_type": "code",
   "execution_count": 2,
   "metadata": {},
   "outputs": [
    {
     "data": {
      "text/html": [
       "<div>\n",
       "<style scoped>\n",
       "    .dataframe tbody tr th:only-of-type {\n",
       "        vertical-align: middle;\n",
       "    }\n",
       "\n",
       "    .dataframe tbody tr th {\n",
       "        vertical-align: top;\n",
       "    }\n",
       "\n",
       "    .dataframe thead th {\n",
       "        text-align: right;\n",
       "    }\n",
       "</style>\n",
       "<table border=\"1\" class=\"dataframe\">\n",
       "  <thead>\n",
       "    <tr style=\"text-align: right;\">\n",
       "      <th></th>\n",
       "      <th>PassengerId</th>\n",
       "      <th>Pclass</th>\n",
       "      <th>Name</th>\n",
       "      <th>Sex</th>\n",
       "      <th>Age</th>\n",
       "      <th>SibSp</th>\n",
       "      <th>Parch</th>\n",
       "      <th>Ticket</th>\n",
       "      <th>Fare</th>\n",
       "      <th>Cabin</th>\n",
       "      <th>Embarked</th>\n",
       "    </tr>\n",
       "  </thead>\n",
       "  <tbody>\n",
       "    <tr>\n",
       "      <th>0</th>\n",
       "      <td>892</td>\n",
       "      <td>3</td>\n",
       "      <td>Kelly, Mr. James</td>\n",
       "      <td>male</td>\n",
       "      <td>34.5</td>\n",
       "      <td>0</td>\n",
       "      <td>0</td>\n",
       "      <td>330911</td>\n",
       "      <td>7.8292</td>\n",
       "      <td>NaN</td>\n",
       "      <td>Q</td>\n",
       "    </tr>\n",
       "    <tr>\n",
       "      <th>1</th>\n",
       "      <td>893</td>\n",
       "      <td>3</td>\n",
       "      <td>Wilkes, Mrs. James (Ellen Needs)</td>\n",
       "      <td>female</td>\n",
       "      <td>47.0</td>\n",
       "      <td>1</td>\n",
       "      <td>0</td>\n",
       "      <td>363272</td>\n",
       "      <td>7.0000</td>\n",
       "      <td>NaN</td>\n",
       "      <td>S</td>\n",
       "    </tr>\n",
       "    <tr>\n",
       "      <th>2</th>\n",
       "      <td>894</td>\n",
       "      <td>2</td>\n",
       "      <td>Myles, Mr. Thomas Francis</td>\n",
       "      <td>male</td>\n",
       "      <td>62.0</td>\n",
       "      <td>0</td>\n",
       "      <td>0</td>\n",
       "      <td>240276</td>\n",
       "      <td>9.6875</td>\n",
       "      <td>NaN</td>\n",
       "      <td>Q</td>\n",
       "    </tr>\n",
       "    <tr>\n",
       "      <th>3</th>\n",
       "      <td>895</td>\n",
       "      <td>3</td>\n",
       "      <td>Wirz, Mr. Albert</td>\n",
       "      <td>male</td>\n",
       "      <td>27.0</td>\n",
       "      <td>0</td>\n",
       "      <td>0</td>\n",
       "      <td>315154</td>\n",
       "      <td>8.6625</td>\n",
       "      <td>NaN</td>\n",
       "      <td>S</td>\n",
       "    </tr>\n",
       "    <tr>\n",
       "      <th>4</th>\n",
       "      <td>896</td>\n",
       "      <td>3</td>\n",
       "      <td>Hirvonen, Mrs. Alexander (Helga E Lindqvist)</td>\n",
       "      <td>female</td>\n",
       "      <td>22.0</td>\n",
       "      <td>1</td>\n",
       "      <td>1</td>\n",
       "      <td>3101298</td>\n",
       "      <td>12.2875</td>\n",
       "      <td>NaN</td>\n",
       "      <td>S</td>\n",
       "    </tr>\n",
       "  </tbody>\n",
       "</table>\n",
       "</div>"
      ],
      "text/plain": [
       "   PassengerId  Pclass                                          Name     Sex  \\\n",
       "0          892       3                              Kelly, Mr. James    male   \n",
       "1          893       3              Wilkes, Mrs. James (Ellen Needs)  female   \n",
       "2          894       2                     Myles, Mr. Thomas Francis    male   \n",
       "3          895       3                              Wirz, Mr. Albert    male   \n",
       "4          896       3  Hirvonen, Mrs. Alexander (Helga E Lindqvist)  female   \n",
       "\n",
       "    Age  SibSp  Parch   Ticket     Fare Cabin Embarked  \n",
       "0  34.5      0      0   330911   7.8292   NaN        Q  \n",
       "1  47.0      1      0   363272   7.0000   NaN        S  \n",
       "2  62.0      0      0   240276   9.6875   NaN        Q  \n",
       "3  27.0      0      0   315154   8.6625   NaN        S  \n",
       "4  22.0      1      1  3101298  12.2875   NaN        S  "
      ]
     },
     "execution_count": 2,
     "metadata": {},
     "output_type": "execute_result"
    }
   ],
   "source": [
    "# use pandas to read data to panda dataframe\n",
    "train_data = pd.read_csv(\"/kaggle/input/titanic/train.csv\")\n",
    "test_data = pd.read_csv(\"/kaggle/input/titanic/test.csv\")\n",
    "test_data.head()"
   ]
  },
  {
   "cell_type": "markdown",
   "metadata": {},
   "source": [
    "# 3. Check for missing values and Fix\n"
   ]
  },
  {
   "cell_type": "code",
   "execution_count": 3,
   "metadata": {},
   "outputs": [
    {
     "name": "stdout",
     "output_type": "stream",
     "text": [
      "PassengerId      0\n",
      "Survived         0\n",
      "Pclass           0\n",
      "Name             0\n",
      "Sex              0\n",
      "Age            177\n",
      "SibSp            0\n",
      "Parch            0\n",
      "Ticket           0\n",
      "Fare             0\n",
      "Cabin          687\n",
      "Embarked         2\n",
      "dtype: int64\n",
      "-------------\n",
      "PassengerId      0\n",
      "Pclass           0\n",
      "Name             0\n",
      "Sex              0\n",
      "Age             86\n",
      "SibSp            0\n",
      "Parch            0\n",
      "Ticket           0\n",
      "Fare             1\n",
      "Cabin          327\n",
      "Embarked         0\n",
      "dtype: int64\n",
      "-------------\n"
     ]
    }
   ],
   "source": [
    "all_data = (train_data, test_data)\n",
    "for dataset in all_data:\n",
    "    print(pd.isnull(dataset).sum())\n",
    "    print('-------------')"
   ]
  },
  {
   "cell_type": "markdown",
   "metadata": {},
   "source": [
    "**Set NaN Embarked values to 'S'**"
   ]
  },
  {
   "cell_type": "code",
   "execution_count": 4,
   "metadata": {},
   "outputs": [],
   "source": [
    "train_data.Embarked.fillna('S', inplace=True)"
   ]
  },
  {
   "cell_type": "code",
   "execution_count": 5,
   "metadata": {},
   "outputs": [
    {
     "name": "stdout",
     "output_type": "stream",
     "text": [
      "PassengerId      0\n",
      "Survived         0\n",
      "Pclass           0\n",
      "Name             0\n",
      "Sex              0\n",
      "Age            177\n",
      "SibSp            0\n",
      "Parch            0\n",
      "Ticket           0\n",
      "Fare             0\n",
      "Cabin          687\n",
      "Embarked         0\n",
      "dtype: int64\n",
      "-------------\n",
      "PassengerId      0\n",
      "Pclass           0\n",
      "Name             0\n",
      "Sex              0\n",
      "Age             86\n",
      "SibSp            0\n",
      "Parch            0\n",
      "Ticket           0\n",
      "Fare             1\n",
      "Cabin          327\n",
      "Embarked         0\n",
      "dtype: int64\n",
      "-------------\n"
     ]
    }
   ],
   "source": [
    "all_data = (train_data, test_data)\n",
    "for dataset in all_data:\n",
    "    print(pd.isnull(dataset).sum())\n",
    "    print('-------------')"
   ]
  },
  {
   "cell_type": "markdown",
   "metadata": {},
   "source": [
    "**Fix Fare NaN, set to mean value**"
   ]
  },
  {
   "cell_type": "code",
   "execution_count": 6,
   "metadata": {},
   "outputs": [
    {
     "data": {
      "text/plain": [
       "count    417.000000\n",
       "mean      35.627188\n",
       "std       55.907576\n",
       "min        0.000000\n",
       "25%        7.895800\n",
       "50%       14.454200\n",
       "75%       31.500000\n",
       "max      512.329200\n",
       "Name: Fare, dtype: float64"
      ]
     },
     "execution_count": 6,
     "metadata": {},
     "output_type": "execute_result"
    }
   ],
   "source": [
    "test_data.Fare.describe()"
   ]
  },
  {
   "cell_type": "code",
   "execution_count": 7,
   "metadata": {},
   "outputs": [],
   "source": [
    "test_data.Fare.fillna(36.0, inplace=True)"
   ]
  },
  {
   "cell_type": "code",
   "execution_count": 8,
   "metadata": {},
   "outputs": [
    {
     "name": "stdout",
     "output_type": "stream",
     "text": [
      "PassengerId      0\n",
      "Survived         0\n",
      "Pclass           0\n",
      "Name             0\n",
      "Sex              0\n",
      "Age            177\n",
      "SibSp            0\n",
      "Parch            0\n",
      "Ticket           0\n",
      "Fare             0\n",
      "Cabin          687\n",
      "Embarked         0\n",
      "dtype: int64\n",
      "-------------\n",
      "PassengerId      0\n",
      "Pclass           0\n",
      "Name             0\n",
      "Sex              0\n",
      "Age             86\n",
      "SibSp            0\n",
      "Parch            0\n",
      "Ticket           0\n",
      "Fare             0\n",
      "Cabin          327\n",
      "Embarked         0\n",
      "dtype: int64\n",
      "-------------\n"
     ]
    }
   ],
   "source": [
    "all_data = (train_data, test_data)\n",
    "for dataset in all_data:\n",
    "    print(pd.isnull(dataset).sum())\n",
    "    print('-------------')"
   ]
  },
  {
   "cell_type": "markdown",
   "metadata": {},
   "source": [
    "# 4. Explore Data"
   ]
  },
  {
   "cell_type": "markdown",
   "metadata": {},
   "source": [
    "**Exploring survival rate between male and female.**\n",
    "* Orange = Survived\n",
    "* Blue = Nor Survived"
   ]
  },
  {
   "cell_type": "code",
   "execution_count": 9,
   "metadata": {},
   "outputs": [
    {
     "name": "stdout",
     "output_type": "stream",
     "text": [
      "74.2038% of women Survived\n",
      "18.8908% of men Survived\n"
     ]
    },
    {
     "data": {
      "text/plain": [
       "<matplotlib.axes._subplots.AxesSubplot at 0x7f54c84745f8>"
      ]
     },
     "execution_count": 9,
     "metadata": {},
     "output_type": "execute_result"
    },
    {
     "data": {
      "image/png": "[encoded data removed]",
      "text/plain": [
       "<Figure size 1296x576 with 2 Axes>"
      ]
     },
     "metadata": {
      "needs_background": "light"
     },
     "output_type": "display_data"
    }
   ],
   "source": [
    "women = train_data.loc[train_data.Sex == 'female']['Survived']\n",
    "men = train_data.loc[train_data.Sex == 'male']['Survived']\n",
    "print(f'{sum(women) / len(women) * 100:.4f}% of women Survived')\n",
    "print(f'{sum(men) / len(men) * 100:.4f}% of men Survived')\n",
    "\n",
    "fig, (ax1, ax2)  = plt.subplots(1, 2, figsize=(18, 8))\n",
    "sns.barplot(x='Sex', y='Survived', data=train_data, ax=ax1)\n",
    "sns.countplot(x=\"Sex\", hue=\"Survived\", data=train_data, ax=ax2)"
   ]
  },
  {
   "cell_type": "markdown",
   "metadata": {},
   "source": [
    "**Exploring survival rate in the different Passenger Class**\n",
    "* Orange = Survived\n",
    "* Blue = Nor Survived"
   ]
  },
  {
   "cell_type": "code",
   "execution_count": 10,
   "metadata": {},
   "outputs": [
    {
     "name": "stdout",
     "output_type": "stream",
     "text": [
      "62.9630% in Pclass 1 Survived\n",
      "47.2826% in Pclass 2 Survived\n",
      "24.2363% in Pclass 3 Survived\n"
     ]
    },
    {
     "name": "stderr",
     "output_type": "stream",
     "text": [
      "/opt/conda/lib/python3.6/site-packages/seaborn/categorical.py:3669: UserWarning: The `factorplot` function has been renamed to `catplot`. The original name will be removed in a future release. Please update your code. Note that the default `kind` in `factorplot` (`'point'`) has changed `'strip'` in `catplot`.\n",
      "  warnings.warn(msg)\n"
     ]
    },
    {
     "data": {
      "text/plain": [
       "<seaborn.axisgrid.FacetGrid at 0x7f54c80e5710>"
      ]
     },
     "execution_count": 10,
     "metadata": {},
     "output_type": "execute_result"
    },
    {
     "data": {
      "image/png": "[encoded data removed]",
      "text/plain": [
       "<Figure size 430.5x360 with 1 Axes>"
      ]
     },
     "metadata": {
      "needs_background": "light"
     },
     "output_type": "display_data"
    }
   ],
   "source": [
    "pc1 = train_data.loc[train_data.Pclass == 1]['Survived']\n",
    "pc2 = train_data.loc[train_data.Pclass == 2]['Survived']\n",
    "pc3 = train_data.loc[train_data.Pclass == 3]['Survived']\n",
    "\n",
    "print(f'{sum(pc1) / len(pc1) * 100:.4f}% in Pclass 1 Survived')\n",
    "print(f'{sum(pc2) / len(pc2) * 100:.4f}% in Pclass 2 Survived')\n",
    "print(f'{sum(pc3) / len(pc3) * 100:.4f}% in Pclass 3 Survived')\n",
    "\n",
    "sns.factorplot('Pclass', 'Survived', hue='Sex', data = train_data)\n"
   ]
  },
  {
   "cell_type": "markdown",
   "metadata": {},
   "source": [
    "**Exploring survival rate if one had Siblings/Spouses Aboard**"
   ]
  },
  {
   "cell_type": "code",
   "execution_count": 11,
   "metadata": {},
   "outputs": [
    {
     "name": "stdout",
     "output_type": "stream",
     "text": [
      "53.5885% Survived with one Siblings/Spouses on ship\n",
      "46.4286% Survived with two Siblings/Spouses on ship\n",
      "34.5395% Survived with zero Siblings/Spouses on ship\n",
      "25.0000% Survived with three Siblings/Spouses on ship\n",
      "16.6667% Survived with four Siblings/Spouses on ship\n",
      "0.0000% Survived with five Siblings/Spouses on ship\n",
      "0.0000% Survived with eight Siblings/Spouses on ship\n"
     ]
    },
    {
     "data": {
      "text/plain": [
       "<matplotlib.axes._subplots.AxesSubplot at 0x7f54c82fe588>"
      ]
     },
     "execution_count": 11,
     "metadata": {},
     "output_type": "execute_result"
    },
    {
     "data": {
      "image/png": "[encoded data removed]",
      "text/plain": [
       "<Figure size 432x288 with 1 Axes>"
      ]
     },
     "metadata": {
      "needs_background": "light"
     },
     "output_type": "display_data"
    }
   ],
   "source": [
    "SibSp0 = train_data.loc[train_data.SibSp == 0]['Survived']\n",
    "SibSp1 = train_data.loc[train_data.SibSp == 1]['Survived']\n",
    "SibSp2 = train_data.loc[train_data.SibSp == 2]['Survived']\n",
    "SibSp3 = train_data.loc[train_data.SibSp == 3]['Survived']\n",
    "SibSp4 = train_data.loc[train_data.SibSp == 4]['Survived']\n",
    "SibSp5 = train_data.loc[train_data.SibSp == 5]['Survived']\n",
    "SibSp8 = train_data.loc[train_data.SibSp == 8]['Survived']\n",
    "\n",
    "\n",
    "print(f'{sum(SibSp1) / len(SibSp1) * 100:.4f}% Survived with one Siblings/Spouses on ship')\n",
    "print(f'{sum(SibSp2) / len(SibSp2) * 100:.4f}% Survived with two Siblings/Spouses on ship')\n",
    "print(f'{sum(SibSp0) / len(SibSp0) * 100:.4f}% Survived with zero Siblings/Spouses on ship')\n",
    "print(f'{sum(SibSp3) / len(SibSp3) * 100:.4f}% Survived with three Siblings/Spouses on ship')\n",
    "print(f'{sum(SibSp4) / len(SibSp4) * 100:.4f}% Survived with four Siblings/Spouses on ship')\n",
    "print(f'{sum(SibSp5) / len(SibSp5) * 100:.4f}% Survived with five Siblings/Spouses on ship')\n",
    "print(f'{sum(SibSp8) / len(SibSp8) * 100:.4f}% Survived with eight Siblings/Spouses on ship')\n",
    "\n",
    "sns.barplot(x='SibSp', y='Survived', data=train_data)"
   ]
  },
  {
   "cell_type": "markdown",
   "metadata": {},
   "source": [
    "**Exploring survival rate if one had Parents/Children Aboard**"
   ]
  },
  {
   "cell_type": "code",
   "execution_count": 12,
   "metadata": {},
   "outputs": [
    {
     "name": "stdout",
     "output_type": "stream",
     "text": [
      "34.3658% with Parents/Children Aboard Survived: 233 out of 678 people\n",
      "55.0847% with Parents/Children Aboard Survived: 65 out of 118 people\n",
      "50.0000% with Parents/Children Aboard Survived: 40 out of 80 people\n",
      "60.0000% with Parents/Children Aboard Survived: 3 out of 5 people\n",
      "0.0000% with Parents/Children Aboard Survived: 0 out of 4 people\n",
      "20.0000% with Parents/Children Aboard Survived: 1 out of 5 people\n",
      "0.0000% with Parents/Children Aboard Survived: 0 out of 1 people\n"
     ]
    },
    {
     "data": {
      "text/plain": [
       "<matplotlib.axes._subplots.AxesSubplot at 0x7f54c82ecef0>"
      ]
     },
     "execution_count": 12,
     "metadata": {},
     "output_type": "execute_result"
    },
    {
     "data": {
      "image/png": "[encoded data removed]",
      "text/plain": [
       "<Figure size 1296x576 with 2 Axes>"
      ]
     },
     "metadata": {
      "needs_background": "light"
     },
     "output_type": "display_data"
    }
   ],
   "source": [
    "Parch0 = train_data.loc[train_data.Parch == 0]['Survived']\n",
    "Parch1 = train_data.loc[train_data.Parch == 1]['Survived']\n",
    "Parch2 = train_data.loc[train_data.Parch == 2]['Survived']\n",
    "Parch3 = train_data.loc[train_data.Parch == 3]['Survived']\n",
    "Parch4 = train_data.loc[train_data.Parch == 4]['Survived']\n",
    "Parch5 = train_data.loc[train_data.Parch == 5]['Survived']\n",
    "Parch6 = train_data.loc[train_data.Parch == 6]['Survived']\n",
    "\n",
    "print(f'{sum(Parch0) / len(Parch0) * 100:.4f}% with Parents/Children Aboard Survived: {sum(Parch0)} out of {len(Parch0)} people')\n",
    "print(f'{sum(Parch1) / len(Parch1) * 100:.4f}% with Parents/Children Aboard Survived: {sum(Parch1)} out of {len(Parch1)} people')\n",
    "print(f'{sum(Parch2) / len(Parch2) * 100:.4f}% with Parents/Children Aboard Survived: {sum(Parch2)} out of {len(Parch2)} people')\n",
    "print(f'{sum(Parch3) / len(Parch3) * 100:.4f}% with Parents/Children Aboard Survived: {sum(Parch3)} out of {len(Parch3)} people')\n",
    "print(f'{sum(Parch4) / len(Parch4) * 100:.4f}% with Parents/Children Aboard Survived: {sum(Parch4)} out of {len(Parch4)} people')\n",
    "print(f'{sum(Parch5) / len(Parch5) * 100:.4f}% with Parents/Children Aboard Survived: {sum(Parch5)} out of {len(Parch5)} people')\n",
    "print(f'{sum(Parch6) / len(Parch6) * 100:.4f}% with Parents/Children Aboard Survived: {sum(Parch6)} out of {len(Parch6)} people')\n",
    "\n",
    "fig, (ax1, ax2)  = plt.subplots(1, 2, figsize=(18, 8))\n",
    "sns.countplot(data=train_data, x='Parch', hue='Survived', ax=ax1)\n",
    "sns.barplot(x='Parch', y='Survived', data=train_data, ax=ax2)"
   ]
  },
  {
   "cell_type": "markdown",
   "metadata": {},
   "source": [
    "**The data shows that some people had cabins and some did not. We coverted the information to a boolean.**\n",
    "* Orange = Survived\n",
    "* Blue = Nor Survived"
   ]
  },
  {
   "cell_type": "code",
   "execution_count": 13,
   "metadata": {},
   "outputs": [
    {
     "name": "stdout",
     "output_type": "stream",
     "text": [
      "29.9854% With Out a Cabin Survived\n",
      "66.6667% With a Cabin Survived\n"
     ]
    },
    {
     "data": {
      "text/plain": [
       "<matplotlib.axes._subplots.AxesSubplot at 0x7f54c81847b8>"
      ]
     },
     "execution_count": 13,
     "metadata": {},
     "output_type": "execute_result"
    },
    {
     "data": {
      "image/png": "[encoded data removed]",
      "text/plain": [
       "<Figure size 432x288 with 1 Axes>"
      ]
     },
     "metadata": {
      "needs_background": "light"
     },
     "output_type": "display_data"
    }
   ],
   "source": [
    "train_data['CabinBool'] = train_data.Cabin.notnull().astype('int')\n",
    "test_data['CabinBool'] = test_data.Cabin.notnull().astype('int')\n",
    "\n",
    "CabinNo = train_data.loc[train_data.CabinBool == 0]['Survived']\n",
    "CabinYes = train_data.loc[train_data.CabinBool == 1]['Survived']\n",
    "\n",
    "print(f'{sum(CabinNo) / len(CabinNo) * 100:.4f}% With Out a Cabin Survived')\n",
    "print(f'{sum(CabinYes) / len(CabinYes) * 100:.4f}% With a Cabin Survived')\n",
    "\n",
    "\n",
    "sns.barplot(x='CabinBool', y='Survived', data=train_data)"
   ]
  },
  {
   "cell_type": "markdown",
   "metadata": {},
   "source": [
    "**Survival rate based on departure location.**\n",
    "* S = SouthHampton\n",
    "* C = Cherbourg\n",
    "* Q = Queenstown"
   ]
  },
  {
   "cell_type": "code",
   "execution_count": 14,
   "metadata": {},
   "outputs": [
    {
     "data": {
      "text/plain": [
       "<matplotlib.axes._subplots.AxesSubplot at 0x7f54c81500f0>"
      ]
     },
     "execution_count": 14,
     "metadata": {},
     "output_type": "execute_result"
    },
    {
     "data": {
      "image/png": "[encoded data removed]",
      "text/plain": [
       "<Figure size 432x288 with 1 Axes>"
      ]
     },
     "metadata": {
      "needs_background": "light"
     },
     "output_type": "display_data"
    }
   ],
   "source": [
    "sns.barplot(x='Embarked', y='Survived', data=train_data)"
   ]
  },
  {
   "cell_type": "markdown",
   "metadata": {},
   "source": [
    "# 5. Fill NaN and Bin the age Data\n",
    "**Check the unique values**"
   ]
  },
  {
   "cell_type": "code",
   "execution_count": 15,
   "metadata": {},
   "outputs": [
    {
     "data": {
      "text/plain": [
       "array([22.  , 38.  , 26.  , 35.  ,   nan, 54.  ,  2.  , 27.  , 14.  ,\n",
       "        4.  , 58.  , 20.  , 39.  , 55.  , 31.  , 34.  , 15.  , 28.  ,\n",
       "        8.  , 19.  , 40.  , 66.  , 42.  , 21.  , 18.  ,  3.  ,  7.  ,\n",
       "       49.  , 29.  , 65.  , 28.5 ,  5.  , 11.  , 45.  , 17.  , 32.  ,\n",
       "       16.  , 25.  ,  0.83, 30.  , 33.  , 23.  , 24.  , 46.  , 59.  ,\n",
       "       71.  , 37.  , 47.  , 14.5 , 70.5 , 32.5 , 12.  ,  9.  , 36.5 ,\n",
       "       51.  , 55.5 , 40.5 , 44.  ,  1.  , 61.  , 56.  , 50.  , 36.  ,\n",
       "       45.5 , 20.5 , 62.  , 41.  , 52.  , 63.  , 23.5 ,  0.92, 43.  ,\n",
       "       60.  , 10.  , 64.  , 13.  , 48.  ,  0.75, 53.  , 57.  , 80.  ,\n",
       "       70.  , 24.5 ,  6.  ,  0.67, 30.5 ,  0.42, 34.5 , 74.  ])"
      ]
     },
     "execution_count": 15,
     "metadata": {},
     "output_type": "execute_result"
    }
   ],
   "source": [
    "train_data.Age.unique()\n"
   ]
  },
  {
   "cell_type": "markdown",
   "metadata": {},
   "source": [
    "**Fill NaN values with -0.5 and assign to unknown group**"
   ]
  },
  {
   "cell_type": "code",
   "execution_count": 16,
   "metadata": {},
   "outputs": [
    {
     "name": "stdout",
     "output_type": "stream",
     "text": [
      "PassengerId      0\n",
      "Survived         0\n",
      "Pclass           0\n",
      "Name             0\n",
      "Sex              0\n",
      "Age              0\n",
      "SibSp            0\n",
      "Parch            0\n",
      "Ticket           0\n",
      "Fare             0\n",
      "Cabin          687\n",
      "Embarked         0\n",
      "CabinBool        0\n",
      "dtype: int64\n",
      "-------------\n",
      "PassengerId      0\n",
      "Pclass           0\n",
      "Name             0\n",
      "Sex              0\n",
      "Age              0\n",
      "SibSp            0\n",
      "Parch            0\n",
      "Ticket           0\n",
      "Fare             0\n",
      "Cabin          327\n",
      "Embarked         0\n",
      "CabinBool        0\n",
      "dtype: int64\n",
      "-------------\n"
     ]
    }
   ],
   "source": [
    "train_data.Age.fillna(-0.5, inplace=True)\n",
    "test_data.Age.fillna(-0.5, inplace=True)\n",
    "all_data = (train_data, test_data)\n",
    "for dataset in all_data:\n",
    "    print(pd.isnull(dataset).sum())\n",
    "    print('-------------')"
   ]
  },
  {
   "cell_type": "code",
   "execution_count": 17,
   "metadata": {},
   "outputs": [
    {
     "data": {
      "text/plain": [
       "<matplotlib.axes._subplots.AxesSubplot at 0x7f54c7e1d400>"
      ]
     },
     "execution_count": 17,
     "metadata": {},
     "output_type": "execute_result"
    },
    {
     "data": {
      "image/png": "[encoded data removed]",
      "text/plain": [
       "<Figure size 1296x576 with 2 Axes>"
      ]
     },
     "metadata": {
      "needs_background": "light"
     },
     "output_type": "display_data"
    }
   ],
   "source": [
    "bins = [-1, 0, 7, 14, 25, 35, 60, np.inf]\n",
    "labels = ['Unknown', 'Baby', 'Child', 'Teen', 'YgAdult', 'Adult', 'Old']\n",
    "train_data['AgeGroup'] = pd.cut(train_data.Age, bins, labels=labels)\n",
    "test_data['AgeGroup'] = pd.cut(test_data.Age, bins, labels=labels)\n",
    "\n",
    "fig, (ax1, ax2)  = plt.subplots(1, 2, figsize=(18, 8))\n",
    "sns.barplot(x='AgeGroup', y='Survived', data=train_data, ax=ax1)\n",
    "sns.countplot(data=train_data, x='AgeGroup', hue='Survived', ax=ax2)"
   ]
  },
  {
   "cell_type": "markdown",
   "metadata": {},
   "source": [
    "**Bin the Fare Data**"
   ]
  },
  {
   "cell_type": "code",
   "execution_count": 18,
   "metadata": {},
   "outputs": [
    {
     "data": {
      "text/plain": [
       "count    891.000000\n",
       "mean      32.204208\n",
       "std       49.693429\n",
       "min        0.000000\n",
       "25%        7.910400\n",
       "50%       14.454200\n",
       "75%       31.000000\n",
       "max      512.329200\n",
       "Name: Fare, dtype: float64"
      ]
     },
     "execution_count": 18,
     "metadata": {},
     "output_type": "execute_result"
    }
   ],
   "source": [
    "train_data.Fare.describe()"
   ]
  },
  {
   "cell_type": "code",
   "execution_count": 19,
   "metadata": {},
   "outputs": [
    {
     "data": {
      "text/plain": [
       "<matplotlib.axes._subplots.AxesSubplot at 0x7f54c7d3a7f0>"
      ]
     },
     "execution_count": 19,
     "metadata": {},
     "output_type": "execute_result"
    },
    {
     "data": {
      "image/png": "[encoded data removed]",
      "text/plain": [
       "<Figure size 1296x576 with 2 Axes>"
      ]
     },
     "metadata": {
      "needs_background": "light"
     },
     "output_type": "display_data"
    }
   ],
   "source": [
    "bins = [0, 8, 15, 32, 100, np.inf]\n",
    "labels = ['Exlow', 'Low', 'Med', 'High', 'ExHigh']\n",
    "train_data['FareBins'] = pd.cut(train_data.Fare, bins, labels=labels)\n",
    "test_data['FareBins'] = pd.cut(test_data.Fare, bins, labels=labels)\n",
    "\n",
    "fig, (ax1, ax2)  = plt.subplots(1, 2, figsize=(18, 8))\n",
    "sns.barplot(x='FareBins', y='Survived', data=train_data, ax=ax1)\n",
    "sns.countplot(data=train_data, x='FareBins', hue='Survived', ax=ax2)"
   ]
  },
  {
   "cell_type": "markdown",
   "metadata": {},
   "source": [
    "# 6. Run model and get results"
   ]
  },
  {
   "cell_type": "code",
   "execution_count": 20,
   "metadata": {},
   "outputs": [
    {
     "name": "stdout",
     "output_type": "stream",
     "text": [
      "Your submission was successfully saved!\n"
     ]
    }
   ],
   "source": [
    "from sklearn.ensemble import RandomForestClassifier\n",
    "\n",
    "y = train_data.Survived\n",
    "\n",
    "features = [\"Pclass\", \"Sex\", \"SibSp\", \"Parch\", \"Embarked\", \"CabinBool\", \"AgeGroup\", \"FareBins\"]\n",
    "X = pd.get_dummies(train_data[features])\n",
    "X_test = pd.get_dummies(test_data[features])\n",
    "\n",
    "model = RandomForestClassifier(n_estimators=100, random_state=1)\n",
    "model.fit(X, y)\n",
    "predictions = model.predict(X_test)\n",
    "\n",
    "output = pd.DataFrame({'PassengerId': test_data.PassengerId, 'Survived': predictions})\n",
    "output.to_csv('LPA_submission.csv', index=False)\n",
    "print(\"Your submission was successfully saved!\")"
   ]
  }
 ],
 "metadata": {
  "kernelspec": {
   "display_name": "Python 3",
   "language": "python",
   "name": "python3"
  },
  "language_info": {
   "codemirror_mode": {
    "name": "ipython",
    "version": 3
   },
   "file_extension": ".py",
   "mimetype": "text/x-python",
   "name": "python",
   "nbconvert_exporter": "python",
   "pygments_lexer": "ipython3",
   "version": "3.6.6"
  }
 },
 "nbformat": 4,
 "nbformat_minor": 4
}
